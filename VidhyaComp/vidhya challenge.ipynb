{
 "metadata": {
  "name": "vidhya challenge.ipynb"
 },
 "nbformat": 3,
 "nbformat_minor": 0,
 "worksheets": [
  {
   "cells": [
    {
     "cell_type": "heading",
     "level": 1,
     "metadata": {},
     "source": [
      "Analytics Vidhya Challenge"
     ]
    },
    {
     "cell_type": "markdown",
     "metadata": {},
     "source": [
      "Recently the blog [Analytics Vidhya](http://www.analyticsvidhya.com/blog/2014/08/author-identification-challenge/) proposed an informal competiton. The competition has a fun back story but basically its about taking all pieces writen by the two main authors (Kunal Jain and Tavish Srivastava) and building a model that can work out who wrote which one (of course you have to strip out the author name first!)."
     ]
    },
    {
     "cell_type": "markdown",
     "metadata": {},
     "source": [
      "This is a fun short challenge. Part of the appeal is that the dataset is not given to you in a nice neat bundle as it would be in say a Kaggle competition. It also involves text which is a bit of departure from straight forward regression and classification."
     ]
    },
    {
     "cell_type": "markdown",
     "metadata": {},
     "source": [
      "So lets lay out a plan for how to approach this project\n",
      "\n",
      "1. Scrape the data.\n",
      "2. Clean the data.\n",
      "3. Split the data.\n",
      "4. Build the models.\n",
      "5. Report the results.\n",
      "\n",
      "\n",
      "I will be using Python and its packages for this project because I am more familiar with Python for scraping and text based projects. Latter I will post how it could be done in R."
     ]
    },
    {
     "cell_type": "heading",
     "level": 3,
     "metadata": {},
     "source": [
      "Scraping"
     ]
    },
    {
     "cell_type": "markdown",
     "metadata": {},
     "source": [
      "The first step in scraping anything is to have a look at the structure of the page. Usually I start by just going to the page and looking around, in paricular we are looking at how the URL changes as we move between pages (is there a structure we can see that will allow us to directly pull the data).\n",
      "\n",
      "In this case I will start off looking at Kunal Jain's posts. His Author profile www.analyticsvidhya.com/blog/auhasthor/kunalj/ has the start of a list of his posts.\n",
      "\n",
      "![Alt text](/Firstpage.jpg \"Screen shot\")\n",
      "\n",
      "This page does not include the full list of the posts though, instead there is an \"Older posts\" tab.\n",
      "\n",
      "![Alt text](/Olderposts.jpg \"Older Posts\")\n",
      "\n",
      "When we click on this we can see it clicks over to http://www.analyticsvidhya.com/blog/author/kunalj/page/2/"
     ]
    },
    {
     "cell_type": "code",
     "collapsed": false,
     "input": [
      "#Lets load up some packages\n",
      "import pandas as pd\n",
      "import nltk\n",
      "import numpy as np"
     ],
     "language": "python",
     "metadata": {},
     "outputs": [],
     "prompt_number": 1
    },
    {
     "cell_type": "code",
     "collapsed": false,
     "input": [],
     "language": "python",
     "metadata": {},
     "outputs": []
    }
   ],
   "metadata": {}
  }
 ]
}