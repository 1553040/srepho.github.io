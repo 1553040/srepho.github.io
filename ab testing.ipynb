{
 "metadata": {
  "name": "ab testing.ipynb"
 },
 "nbformat": 3,
 "nbformat_minor": 0,
 "worksheets": [
  {
   "cells": [
    {
     "cell_type": "heading",
     "level": 1,
     "metadata": {},
     "source": [
      "Website Experimentation: <br></br> A/B Testing and the rise of the Multi-Armed Bandit."
     ]
    },
    {
     "cell_type": "raw",
     "metadata": {},
     "source": [
      "One of the most important "
     ]
    }
   ],
   "metadata": {}
  }
 ]
}