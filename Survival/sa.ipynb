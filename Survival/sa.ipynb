{
 "metadata": {
  "name": "sa.ipynb"
 },
 "nbformat": 3,
 "nbformat_minor": 0,
 "worksheets": [
  {
   "cells": [
    {
     "cell_type": "code",
     "collapsed": false,
     "input": [
      "from lifelines import *\n",
      "import pandas as pd"
     ],
     "language": "python",
     "metadata": {},
     "outputs": [],
     "prompt_number": 70
    },
    {
     "cell_type": "code",
     "collapsed": false,
     "input": [
      "data=pd.read_csv(\"E:/Github Stuff/srepho.github.io/Survival/survival.csv\")\n",
      "#data=pd.read_csv(\"D:/Users/soates/Documents/Github/srepho.github.io/Survival/survival.txt\")"
     ],
     "language": "python",
     "metadata": {},
     "outputs": [],
     "prompt_number": 71
    },
    {
     "cell_type": "code",
     "collapsed": false,
     "input": [
      "kmf = KaplanMeierFitter()"
     ],
     "language": "python",
     "metadata": {},
     "outputs": [],
     "prompt_number": 72
    },
    {
     "cell_type": "code",
     "collapsed": false,
     "input": [
      "kmf.fit(data[\"Account_Length\"], event_observed=data[\"Churn\"])"
     ],
     "language": "python",
     "metadata": {},
     "outputs": [
      {
       "metadata": {},
       "output_type": "pyout",
       "prompt_number": 74,
       "text": [
        "<lifelines.KaplanMeierFitter: fitted with 3333 observations, 483 censored>"
       ]
      }
     ],
     "prompt_number": 74
    },
    {
     "cell_type": "code",
     "collapsed": false,
     "input": [
      "kmf.survival_function_.plot()"
     ],
     "language": "python",
     "metadata": {},
     "outputs": [
      {
       "metadata": {},
       "output_type": "pyout",
       "prompt_number": 75,
       "text": [
        "<matplotlib.axes.AxesSubplot at 0xe564240>"
       ]
      },
      {
       "metadata": {},
       "output_type": "display_data",
       "png": "[encoded data removed]",
       "text": [
        "<matplotlib.figure.Figure at 0xe569eb8>"
       ]
      }
     ],
     "prompt_number": 75
    },
    {
     "cell_type": "code",
     "collapsed": false,
     "input": [
      "naf = NelsonAalenFitter()"
     ],
     "language": "python",
     "metadata": {},
     "outputs": [],
     "prompt_number": 76
    },
    {
     "cell_type": "code",
     "collapsed": false,
     "input": [
      "naf.fit(data[\"Account_Length\"], event_observed=data[\"Churn\"])"
     ],
     "language": "python",
     "metadata": {},
     "outputs": [
      {
       "metadata": {},
       "output_type": "pyout",
       "prompt_number": 77,
       "text": [
        "<lifelines.NelsonAalenFitter: fitted with 3333 observations, 483 censored>"
       ]
      }
     ],
     "prompt_number": 77
    },
    {
     "cell_type": "code",
     "collapsed": false,
     "input": [
      "print naf.cumulative_hazard_.head()\n",
      "naf.plot()"
     ],
     "language": "python",
     "metadata": {},
     "outputs": [
      {
       "output_type": "stream",
       "stream": "stdout",
       "text": [
        "          NA-estimate\n",
        "timeline             \n",
        "0            0.000000\n",
        "1            0.002102\n",
        "2            0.002102\n",
        "3            0.003607\n",
        "4            0.003909\n"
       ]
      },
      {
       "metadata": {},
       "output_type": "pyout",
       "prompt_number": 78,
       "text": [
        "<matplotlib.axes.AxesSubplot at 0xe404da0>"
       ]
      },
      {
       "metadata": {},
       "output_type": "display_data",
       "png": "[encoded data removed]",
       "text": [
        "<matplotlib.figure.Figure at 0xde0cb38>"
       ]
      }
     ],
     "prompt_number": 78
    },
    {
     "cell_type": "code",
     "collapsed": false,
     "input": [
      "del data[\"Phone\"]\n",
      "del data[\"State\"]\n",
      "del data[\"Area_Code\"]\n",
      "del data[\"Intl_Plan\"]\n",
      "del data[\"Vmail_Plan\"]"
     ],
     "language": "python",
     "metadata": {},
     "outputs": [],
     "prompt_number": 79
    },
    {
     "cell_type": "code",
     "collapsed": false,
     "input": [
      "data.head()"
     ],
     "language": "python",
     "metadata": {},
     "outputs": [
      {
       "html": [
        "<div style=\"max-height:1000px;max-width:1500px;overflow:auto;\">\n",
        "<table border=\"1\" class=\"dataframe\">\n",
        "  <thead>\n",
        "    <tr style=\"text-align: right;\">\n",
        "      <th></th>\n",
        "      <th>State</th>\n",
        "      <th>Account_Length</th>\n",
        "      <th>Area_Code</th>\n",
        "      <th>Intl_Plan</th>\n",
        "      <th>Vmail_Plan</th>\n",
        "      <th>Vmail_Message</th>\n",
        "      <th>Day_Mins</th>\n",
        "      <th>Day_Calls</th>\n",
        "      <th>Day_Charge</th>\n",
        "      <th>Eve_Mins</th>\n",
        "      <th>Eve_Calls</th>\n",
        "      <th>Eve_Charge</th>\n",
        "      <th>Night_Mins</th>\n",
        "      <th>Night_Calls</th>\n",
        "      <th>Night_Charge</th>\n",
        "      <th>Intl_Mins</th>\n",
        "      <th>Intl_Calls</th>\n",
        "      <th>Intl_Charge</th>\n",
        "      <th>CustServ_Calls</th>\n",
        "      <th>Churn</th>\n",
        "    </tr>\n",
        "  </thead>\n",
        "  <tbody>\n",
        "    <tr>\n",
        "      <th>0</th>\n",
        "      <td> KS</td>\n",
        "      <td> 128</td>\n",
        "      <td> 415</td>\n",
        "      <td>  no</td>\n",
        "      <td> yes</td>\n",
        "      <td> 25</td>\n",
        "      <td> 265.1</td>\n",
        "      <td> 110</td>\n",
        "      <td> 45.07</td>\n",
        "      <td> 197.4</td>\n",
        "      <td>  99</td>\n",
        "      <td> 16.78</td>\n",
        "      <td> 244.7</td>\n",
        "      <td>  91</td>\n",
        "      <td> 11.01</td>\n",
        "      <td> 10.0</td>\n",
        "      <td> 3</td>\n",
        "      <td> 2.70</td>\n",
        "      <td> 1</td>\n",
        "      <td> True</td>\n",
        "    </tr>\n",
        "    <tr>\n",
        "      <th>1</th>\n",
        "      <td> OH</td>\n",
        "      <td> 107</td>\n",
        "      <td> 415</td>\n",
        "      <td>  no</td>\n",
        "      <td> yes</td>\n",
        "      <td> 26</td>\n",
        "      <td> 161.6</td>\n",
        "      <td> 123</td>\n",
        "      <td> 27.47</td>\n",
        "      <td> 195.5</td>\n",
        "      <td> 103</td>\n",
        "      <td> 16.62</td>\n",
        "      <td> 254.4</td>\n",
        "      <td> 103</td>\n",
        "      <td> 11.45</td>\n",
        "      <td> 13.7</td>\n",
        "      <td> 3</td>\n",
        "      <td> 3.70</td>\n",
        "      <td> 1</td>\n",
        "      <td> True</td>\n",
        "    </tr>\n",
        "    <tr>\n",
        "      <th>2</th>\n",
        "      <td> NJ</td>\n",
        "      <td> 137</td>\n",
        "      <td> 415</td>\n",
        "      <td>  no</td>\n",
        "      <td>  no</td>\n",
        "      <td>  0</td>\n",
        "      <td> 243.4</td>\n",
        "      <td> 114</td>\n",
        "      <td> 41.38</td>\n",
        "      <td> 121.2</td>\n",
        "      <td> 110</td>\n",
        "      <td> 10.30</td>\n",
        "      <td> 162.6</td>\n",
        "      <td> 104</td>\n",
        "      <td>  7.32</td>\n",
        "      <td> 12.2</td>\n",
        "      <td> 5</td>\n",
        "      <td> 3.29</td>\n",
        "      <td> 0</td>\n",
        "      <td> True</td>\n",
        "    </tr>\n",
        "    <tr>\n",
        "      <th>3</th>\n",
        "      <td> OH</td>\n",
        "      <td>  84</td>\n",
        "      <td> 408</td>\n",
        "      <td> yes</td>\n",
        "      <td>  no</td>\n",
        "      <td>  0</td>\n",
        "      <td> 299.4</td>\n",
        "      <td>  71</td>\n",
        "      <td> 50.90</td>\n",
        "      <td>  61.9</td>\n",
        "      <td>  88</td>\n",
        "      <td>  5.26</td>\n",
        "      <td> 196.9</td>\n",
        "      <td>  89</td>\n",
        "      <td>  8.86</td>\n",
        "      <td>  6.6</td>\n",
        "      <td> 7</td>\n",
        "      <td> 1.78</td>\n",
        "      <td> 2</td>\n",
        "      <td> True</td>\n",
        "    </tr>\n",
        "    <tr>\n",
        "      <th>4</th>\n",
        "      <td> OK</td>\n",
        "      <td>  75</td>\n",
        "      <td> 415</td>\n",
        "      <td> yes</td>\n",
        "      <td>  no</td>\n",
        "      <td>  0</td>\n",
        "      <td> 166.7</td>\n",
        "      <td> 113</td>\n",
        "      <td> 28.34</td>\n",
        "      <td> 148.3</td>\n",
        "      <td> 122</td>\n",
        "      <td> 12.61</td>\n",
        "      <td> 186.9</td>\n",
        "      <td> 121</td>\n",
        "      <td>  8.41</td>\n",
        "      <td> 10.1</td>\n",
        "      <td> 3</td>\n",
        "      <td> 2.73</td>\n",
        "      <td> 3</td>\n",
        "      <td> True</td>\n",
        "    </tr>\n",
        "  </tbody>\n",
        "</table>\n",
        "</div>"
       ],
       "metadata": {},
       "output_type": "pyout",
       "prompt_number": 68,
       "text": [
        "  State  Account_Length  Area_Code Intl_Plan Vmail_Plan  Vmail_Message  \\\n",
        "0    KS             128        415        no        yes             25   \n",
        "1    OH             107        415        no        yes             26   \n",
        "2    NJ             137        415        no         no              0   \n",
        "3    OH              84        408       yes         no              0   \n",
        "4    OK              75        415       yes         no              0   \n",
        "\n",
        "   Day_Mins  Day_Calls  Day_Charge  Eve_Mins  Eve_Calls  Eve_Charge  \\\n",
        "0     265.1        110       45.07     197.4         99       16.78   \n",
        "1     161.6        123       27.47     195.5        103       16.62   \n",
        "2     243.4        114       41.38     121.2        110       10.30   \n",
        "3     299.4         71       50.90      61.9         88        5.26   \n",
        "4     166.7        113       28.34     148.3        122       12.61   \n",
        "\n",
        "   Night_Mins  Night_Calls  Night_Charge  Intl_Mins  Intl_Calls  Intl_Charge  \\\n",
        "0       244.7           91         11.01       10.0           3         2.70   \n",
        "1       254.4          103         11.45       13.7           3         3.70   \n",
        "2       162.6          104          7.32       12.2           5         3.29   \n",
        "3       196.9           89          8.86        6.6           7         1.78   \n",
        "4       186.9          121          8.41       10.1           3         2.73   \n",
        "\n",
        "   CustServ_Calls Churn  \n",
        "0               1  True  \n",
        "1               1  True  \n",
        "2               0  True  \n",
        "3               2  True  \n",
        "4               3  True  "
       ]
      }
     ],
     "prompt_number": 68
    },
    {
     "cell_type": "code",
     "collapsed": false,
     "input": [
      "s = ' + '.join(data.columns) + ' -1' \n",
      "print s"
     ],
     "language": "python",
     "metadata": {},
     "outputs": [
      {
       "output_type": "stream",
       "stream": "stdout",
       "text": [
        "Account_Length + Vmail_Message + Day_Mins + Day_Calls + Day_Charge + Eve_Mins + Eve_Calls + Eve_Charge + Night_Mins + Night_Calls + Night_Charge + Intl_Mins + Intl_Calls + Intl_Charge + CustServ_Calls + Churn -1\n"
       ]
      }
     ],
     "prompt_number": 80
    },
    {
     "cell_type": "code",
     "collapsed": false,
     "input": [
      "import patsy"
     ],
     "language": "python",
     "metadata": {},
     "outputs": [],
     "prompt_number": 81
    },
    {
     "cell_type": "code",
     "collapsed": false,
     "input": [
      "X = patsy.dmatrix(s, data, return_type='dataframe')"
     ],
     "language": "python",
     "metadata": {},
     "outputs": [],
     "prompt_number": 82
    },
    {
     "cell_type": "code",
     "collapsed": false,
     "input": [
      "X.head()"
     ],
     "language": "python",
     "metadata": {},
     "outputs": [
      {
       "html": [
        "<div style=\"max-height:1000px;max-width:1500px;overflow:auto;\">\n",
        "<table border=\"1\" class=\"dataframe\">\n",
        "  <thead>\n",
        "    <tr style=\"text-align: right;\">\n",
        "      <th></th>\n",
        "      <th>State[AK]</th>\n",
        "      <th>State[AL]</th>\n",
        "      <th>State[AR]</th>\n",
        "      <th>State[AZ]</th>\n",
        "      <th>State[CA]</th>\n",
        "      <th>State[CO]</th>\n",
        "      <th>State[CT]</th>\n",
        "      <th>State[DC]</th>\n",
        "      <th>State[DE]</th>\n",
        "      <th>State[FL]</th>\n",
        "      <th>...</th>\n",
        "      <th>Eve_Mins</th>\n",
        "      <th>Eve_Calls</th>\n",
        "      <th>Eve_Charge</th>\n",
        "      <th>Night_Mins</th>\n",
        "      <th>Night_Calls</th>\n",
        "      <th>Night_Charge</th>\n",
        "      <th>Intl_Mins</th>\n",
        "      <th>Intl_Calls</th>\n",
        "      <th>Intl_Charge</th>\n",
        "      <th>CustServ_Calls</th>\n",
        "    </tr>\n",
        "  </thead>\n",
        "  <tbody>\n",
        "    <tr>\n",
        "      <th>0</th>\n",
        "      <td> 0</td>\n",
        "      <td> 0</td>\n",
        "      <td> 0</td>\n",
        "      <td> 0</td>\n",
        "      <td> 0</td>\n",
        "      <td> 0</td>\n",
        "      <td> 0</td>\n",
        "      <td> 0</td>\n",
        "      <td> 0</td>\n",
        "      <td> 0</td>\n",
        "      <td>...</td>\n",
        "      <td> 197.4</td>\n",
        "      <td>  99</td>\n",
        "      <td> 16.78</td>\n",
        "      <td> 244.7</td>\n",
        "      <td>  91</td>\n",
        "      <td> 11.01</td>\n",
        "      <td> 10.0</td>\n",
        "      <td> 3</td>\n",
        "      <td> 2.70</td>\n",
        "      <td> 1</td>\n",
        "    </tr>\n",
        "    <tr>\n",
        "      <th>1</th>\n",
        "      <td> 0</td>\n",
        "      <td> 0</td>\n",
        "      <td> 0</td>\n",
        "      <td> 0</td>\n",
        "      <td> 0</td>\n",
        "      <td> 0</td>\n",
        "      <td> 0</td>\n",
        "      <td> 0</td>\n",
        "      <td> 0</td>\n",
        "      <td> 0</td>\n",
        "      <td>...</td>\n",
        "      <td> 195.5</td>\n",
        "      <td> 103</td>\n",
        "      <td> 16.62</td>\n",
        "      <td> 254.4</td>\n",
        "      <td> 103</td>\n",
        "      <td> 11.45</td>\n",
        "      <td> 13.7</td>\n",
        "      <td> 3</td>\n",
        "      <td> 3.70</td>\n",
        "      <td> 1</td>\n",
        "    </tr>\n",
        "    <tr>\n",
        "      <th>2</th>\n",
        "      <td> 0</td>\n",
        "      <td> 0</td>\n",
        "      <td> 0</td>\n",
        "      <td> 0</td>\n",
        "      <td> 0</td>\n",
        "      <td> 0</td>\n",
        "      <td> 0</td>\n",
        "      <td> 0</td>\n",
        "      <td> 0</td>\n",
        "      <td> 0</td>\n",
        "      <td>...</td>\n",
        "      <td> 121.2</td>\n",
        "      <td> 110</td>\n",
        "      <td> 10.30</td>\n",
        "      <td> 162.6</td>\n",
        "      <td> 104</td>\n",
        "      <td>  7.32</td>\n",
        "      <td> 12.2</td>\n",
        "      <td> 5</td>\n",
        "      <td> 3.29</td>\n",
        "      <td> 0</td>\n",
        "    </tr>\n",
        "    <tr>\n",
        "      <th>3</th>\n",
        "      <td> 0</td>\n",
        "      <td> 0</td>\n",
        "      <td> 0</td>\n",
        "      <td> 0</td>\n",
        "      <td> 0</td>\n",
        "      <td> 0</td>\n",
        "      <td> 0</td>\n",
        "      <td> 0</td>\n",
        "      <td> 0</td>\n",
        "      <td> 0</td>\n",
        "      <td>...</td>\n",
        "      <td>  61.9</td>\n",
        "      <td>  88</td>\n",
        "      <td>  5.26</td>\n",
        "      <td> 196.9</td>\n",
        "      <td>  89</td>\n",
        "      <td>  8.86</td>\n",
        "      <td>  6.6</td>\n",
        "      <td> 7</td>\n",
        "      <td> 1.78</td>\n",
        "      <td> 2</td>\n",
        "    </tr>\n",
        "    <tr>\n",
        "      <th>4</th>\n",
        "      <td> 0</td>\n",
        "      <td> 0</td>\n",
        "      <td> 0</td>\n",
        "      <td> 0</td>\n",
        "      <td> 0</td>\n",
        "      <td> 0</td>\n",
        "      <td> 0</td>\n",
        "      <td> 0</td>\n",
        "      <td> 0</td>\n",
        "      <td> 0</td>\n",
        "      <td>...</td>\n",
        "      <td> 148.3</td>\n",
        "      <td> 122</td>\n",
        "      <td> 12.61</td>\n",
        "      <td> 186.9</td>\n",
        "      <td> 121</td>\n",
        "      <td>  8.41</td>\n",
        "      <td> 10.1</td>\n",
        "      <td> 3</td>\n",
        "      <td> 2.73</td>\n",
        "      <td> 3</td>\n",
        "    </tr>\n",
        "  </tbody>\n",
        "</table>\n",
        "<p>5 rows \u00d7 70 columns</p>\n",
        "</div>"
       ],
       "metadata": {},
       "output_type": "pyout",
       "prompt_number": 58,
       "text": [
        "   State[AK]  State[AL]  State[AR]  State[AZ]  State[CA]  State[CO]  \\\n",
        "0          0          0          0          0          0          0   \n",
        "1          0          0          0          0          0          0   \n",
        "2          0          0          0          0          0          0   \n",
        "3          0          0          0          0          0          0   \n",
        "4          0          0          0          0          0          0   \n",
        "\n",
        "   State[CT]  State[DC]  State[DE]  State[FL]    ...      Eve_Mins  Eve_Calls  \\\n",
        "0          0          0          0          0    ...         197.4         99   \n",
        "1          0          0          0          0    ...         195.5        103   \n",
        "2          0          0          0          0    ...         121.2        110   \n",
        "3          0          0          0          0    ...          61.9         88   \n",
        "4          0          0          0          0    ...         148.3        122   \n",
        "\n",
        "   Eve_Charge  Night_Mins  Night_Calls  Night_Charge  Intl_Mins  Intl_Calls  \\\n",
        "0       16.78       244.7           91         11.01       10.0           3   \n",
        "1       16.62       254.4          103         11.45       13.7           3   \n",
        "2       10.30       162.6          104          7.32       12.2           5   \n",
        "3        5.26       196.9           89          8.86        6.6           7   \n",
        "4       12.61       186.9          121          8.41       10.1           3   \n",
        "\n",
        "   Intl_Charge  CustServ_Calls  \n",
        "0         2.70               1  \n",
        "1         3.70               1  \n",
        "2         3.29               0  \n",
        "3         1.78               2  \n",
        "4         2.73               3  \n",
        "\n",
        "[5 rows x 70 columns]"
       ]
      }
     ],
     "prompt_number": 58
    },
    {
     "cell_type": "code",
     "collapsed": false,
     "input": [
      "X.columns"
     ],
     "language": "python",
     "metadata": {},
     "outputs": [
      {
       "metadata": {},
       "output_type": "pyout",
       "prompt_number": 59,
       "text": [
        "Index([u'State[AK]', u'State[AL]', u'State[AR]', u'State[AZ]', u'State[CA]', u'State[CO]', u'State[CT]', u'State[DC]', u'State[DE]', u'State[FL]', u'State[GA]', u'State[HI]', u'State[IA]', u'State[ID]', u'State[IL]', u'State[IN]', u'State[KS]', u'State[KY]', u'State[LA]', u'State[MA]', u'State[MD]', u'State[ME]', u'State[MI]', u'State[MN]', u'State[MO]', u'State[MS]', u'State[MT]', u'State[NC]', u'State[ND]', u'State[NE]', u'State[NH]', u'State[NJ]', u'State[NM]', u'State[NV]', u'State[NY]', u'State[OH]', u'State[OK]', u'State[OR]', u'State[PA]', u'State[RI]', u'State[SC]', u'State[SD]', u'State[TN]', u'State[TX]', u'State[UT]', u'State[VA]', u'State[VT]', u'State[WA]', u'State[WI]', u'State[WV]', u'State[WY]', u'Intl_Plan[T.yes]', u'Vmail_Plan[T.yes]', u'Churn[T.True]', u'Account_Length', u'Area_Code', u'Vmail_Message', u'Day_Mins', u'Day_Calls', u'Day_Charge', u'Eve_Mins', u'Eve_Calls', u'Eve_Charge', u'Night_Mins', u'Night_Calls', u'Night_Charge', u'Intl_Mins', u'Intl_Calls', u'Intl_Charge', u'CustServ_Calls'], dtype='object')"
       ]
      }
     ],
     "prompt_number": 59
    },
    {
     "cell_type": "code",
     "collapsed": false,
     "input": [
      "data.head()"
     ],
     "language": "python",
     "metadata": {},
     "outputs": [
      {
       "html": [
        "<div style=\"max-height:1000px;max-width:1500px;overflow:auto;\">\n",
        "<table border=\"1\" class=\"dataframe\">\n",
        "  <thead>\n",
        "    <tr style=\"text-align: right;\">\n",
        "      <th></th>\n",
        "      <th>State</th>\n",
        "      <th>Account Length</th>\n",
        "      <th>Area Code</th>\n",
        "      <th>Intl Plan</th>\n",
        "      <th>VMail Plan</th>\n",
        "      <th>VMail Message</th>\n",
        "      <th>Day Mins</th>\n",
        "      <th>Day Calls</th>\n",
        "      <th>Day Charge</th>\n",
        "      <th>Eve Mins</th>\n",
        "      <th>Eve Calls</th>\n",
        "      <th>Eve Charge</th>\n",
        "      <th>Night Mins</th>\n",
        "      <th>Night Calls</th>\n",
        "      <th>Night Charge</th>\n",
        "      <th>Intl Mins</th>\n",
        "      <th>Intl Calls</th>\n",
        "      <th>Intl Charge</th>\n",
        "      <th>CustServ Calls</th>\n",
        "      <th>Churn</th>\n",
        "    </tr>\n",
        "  </thead>\n",
        "  <tbody>\n",
        "    <tr>\n",
        "      <th>0</th>\n",
        "      <td> KS</td>\n",
        "      <td> 128</td>\n",
        "      <td> 415</td>\n",
        "      <td>  no</td>\n",
        "      <td> yes</td>\n",
        "      <td> 25</td>\n",
        "      <td> 265.1</td>\n",
        "      <td> 110</td>\n",
        "      <td> 45.07</td>\n",
        "      <td> 197.4</td>\n",
        "      <td>  99</td>\n",
        "      <td> 16.78</td>\n",
        "      <td> 244.7</td>\n",
        "      <td>  91</td>\n",
        "      <td> 11.01</td>\n",
        "      <td> 10.0</td>\n",
        "      <td> 3</td>\n",
        "      <td> 2.70</td>\n",
        "      <td> 1</td>\n",
        "      <td> True</td>\n",
        "    </tr>\n",
        "    <tr>\n",
        "      <th>1</th>\n",
        "      <td> OH</td>\n",
        "      <td> 107</td>\n",
        "      <td> 415</td>\n",
        "      <td>  no</td>\n",
        "      <td> yes</td>\n",
        "      <td> 26</td>\n",
        "      <td> 161.6</td>\n",
        "      <td> 123</td>\n",
        "      <td> 27.47</td>\n",
        "      <td> 195.5</td>\n",
        "      <td> 103</td>\n",
        "      <td> 16.62</td>\n",
        "      <td> 254.4</td>\n",
        "      <td> 103</td>\n",
        "      <td> 11.45</td>\n",
        "      <td> 13.7</td>\n",
        "      <td> 3</td>\n",
        "      <td> 3.70</td>\n",
        "      <td> 1</td>\n",
        "      <td> True</td>\n",
        "    </tr>\n",
        "    <tr>\n",
        "      <th>2</th>\n",
        "      <td> NJ</td>\n",
        "      <td> 137</td>\n",
        "      <td> 415</td>\n",
        "      <td>  no</td>\n",
        "      <td>  no</td>\n",
        "      <td>  0</td>\n",
        "      <td> 243.4</td>\n",
        "      <td> 114</td>\n",
        "      <td> 41.38</td>\n",
        "      <td> 121.2</td>\n",
        "      <td> 110</td>\n",
        "      <td> 10.30</td>\n",
        "      <td> 162.6</td>\n",
        "      <td> 104</td>\n",
        "      <td>  7.32</td>\n",
        "      <td> 12.2</td>\n",
        "      <td> 5</td>\n",
        "      <td> 3.29</td>\n",
        "      <td> 0</td>\n",
        "      <td> True</td>\n",
        "    </tr>\n",
        "    <tr>\n",
        "      <th>3</th>\n",
        "      <td> OH</td>\n",
        "      <td>  84</td>\n",
        "      <td> 408</td>\n",
        "      <td> yes</td>\n",
        "      <td>  no</td>\n",
        "      <td>  0</td>\n",
        "      <td> 299.4</td>\n",
        "      <td>  71</td>\n",
        "      <td> 50.90</td>\n",
        "      <td>  61.9</td>\n",
        "      <td>  88</td>\n",
        "      <td>  5.26</td>\n",
        "      <td> 196.9</td>\n",
        "      <td>  89</td>\n",
        "      <td>  8.86</td>\n",
        "      <td>  6.6</td>\n",
        "      <td> 7</td>\n",
        "      <td> 1.78</td>\n",
        "      <td> 2</td>\n",
        "      <td> True</td>\n",
        "    </tr>\n",
        "    <tr>\n",
        "      <th>4</th>\n",
        "      <td> OK</td>\n",
        "      <td>  75</td>\n",
        "      <td> 415</td>\n",
        "      <td> yes</td>\n",
        "      <td>  no</td>\n",
        "      <td>  0</td>\n",
        "      <td> 166.7</td>\n",
        "      <td> 113</td>\n",
        "      <td> 28.34</td>\n",
        "      <td> 148.3</td>\n",
        "      <td> 122</td>\n",
        "      <td> 12.61</td>\n",
        "      <td> 186.9</td>\n",
        "      <td> 121</td>\n",
        "      <td>  8.41</td>\n",
        "      <td> 10.1</td>\n",
        "      <td> 3</td>\n",
        "      <td> 2.73</td>\n",
        "      <td> 3</td>\n",
        "      <td> True</td>\n",
        "    </tr>\n",
        "  </tbody>\n",
        "</table>\n",
        "</div>"
       ],
       "metadata": {},
       "output_type": "pyout",
       "prompt_number": 33,
       "text": [
        "  State  Account Length  Area Code Intl Plan VMail Plan  VMail Message  \\\n",
        "0    KS             128        415        no        yes             25   \n",
        "1    OH             107        415        no        yes             26   \n",
        "2    NJ             137        415        no         no              0   \n",
        "3    OH              84        408       yes         no              0   \n",
        "4    OK              75        415       yes         no              0   \n",
        "\n",
        "   Day Mins  Day Calls  Day Charge  Eve Mins  Eve Calls  Eve Charge  \\\n",
        "0     265.1        110       45.07     197.4         99       16.78   \n",
        "1     161.6        123       27.47     195.5        103       16.62   \n",
        "2     243.4        114       41.38     121.2        110       10.30   \n",
        "3     299.4         71       50.90      61.9         88        5.26   \n",
        "4     166.7        113       28.34     148.3        122       12.61   \n",
        "\n",
        "   Night Mins  Night Calls  Night Charge  Intl Mins  Intl Calls  Intl Charge  \\\n",
        "0       244.7           91         11.01       10.0           3         2.70   \n",
        "1       254.4          103         11.45       13.7           3         3.70   \n",
        "2       162.6          104          7.32       12.2           5         3.29   \n",
        "3       196.9           89          8.86        6.6           7         1.78   \n",
        "4       186.9          121          8.41       10.1           3         2.73   \n",
        "\n",
        "   CustServ Calls Churn  \n",
        "0               1  True  \n",
        "1               1  True  \n",
        "2               0  True  \n",
        "3               2  True  \n",
        "4               3  True  "
       ]
      }
     ],
     "prompt_number": 33
    },
    {
     "cell_type": "code",
     "collapsed": false,
     "input": [
      "del X[\"Churn[T.True]\"]"
     ],
     "language": "python",
     "metadata": {},
     "outputs": [],
     "prompt_number": 61
    },
    {
     "cell_type": "code",
     "collapsed": false,
     "input": [
      "X[\"Churn\"] = data[\"Churn\"]"
     ],
     "language": "python",
     "metadata": {},
     "outputs": [],
     "prompt_number": 64
    },
    {
     "cell_type": "code",
     "collapsed": false,
     "input": [
      "from lifelines.utils import k_fold_cross_validation"
     ],
     "language": "python",
     "metadata": {},
     "outputs": [],
     "prompt_number": 87
    },
    {
     "cell_type": "code",
     "collapsed": false,
     "input": [
      "cf = CoxPHFitter(alpha=0.95, tie_method='Efron')"
     ],
     "language": "python",
     "metadata": {},
     "outputs": [],
     "prompt_number": 83
    },
    {
     "cell_type": "code",
     "collapsed": false,
     "input": [
      "cf.fit(data, duration_col='Account_Length', event_col='Churn')"
     ],
     "language": "python",
     "metadata": {},
     "outputs": [
      {
       "metadata": {},
       "output_type": "pyout",
       "prompt_number": 92,
       "text": [
        "<lifelines.CoxPHFitter: fitted with 3333 observations, 483 censored>"
       ]
      }
     ],
     "prompt_number": 92
    },
    {
     "cell_type": "code",
     "collapsed": false,
     "input": [
      "cf.summary()"
     ],
     "language": "python",
     "metadata": {},
     "outputs": [
      {
       "output_type": "stream",
       "stream": "stdout",
       "text": [
        "                    coef  exp(coef)  se(coef)         z         p  lower 0.95  upper 0.95\n",
        "Vmail_Message   0.003974   1.003982  0.001351  2.940537  0.003276    0.001325    0.006623\n",
        "Day_Mins       -0.134447   0.874200  1.106259 -0.121533  0.903269   -2.303151    2.034258\n",
        "Day_Calls      -0.002494   0.997509  0.000933 -2.672612  0.007526   -0.004323   -0.000665\n",
        "Day_Charge      0.780957   2.183560  6.507411  0.120010  0.904475  -11.976138   13.538052\n",
        "Eve_Mins        0.108991   1.115152  0.556185  0.195962  0.844640   -0.981351    1.199334\n",
        "Eve_Calls      -0.000125   0.999875  0.000942 -0.132629  0.894487   -0.001972    0.001722\n",
        "Eve_Charge     -1.288985   0.275550  6.543494 -0.196987  0.843837  -14.116818   11.538848\n",
        "Night_Mins      0.077512   1.080595  0.298030  0.260080  0.794802   -0.506746    0.661769\n",
        "Night_Calls     0.000554   1.000554  0.000975  0.568107  0.569962   -0.001358    0.002466\n",
        "Night_Charge   -1.728339   0.177579  6.622481 -0.260981  0.794108  -14.711017   11.254340\n",
        "Intl_Mins       0.819233   2.268760  1.760719  0.465283  0.641728   -2.632471    4.270938\n",
        "Intl_Calls      0.006350   1.006370  0.007608  0.834627  0.403928   -0.008565    0.021265\n",
        "Intl_Charge    -3.072109   0.046323  6.521514 -0.471073  0.637589  -15.856851    9.712634\n",
        "CustServ_Calls -0.059976   0.941787  0.014996 -3.999558  0.000063   -0.089374   -0.030579\n"
       ]
      }
     ],
     "prompt_number": 93
    },
    {
     "cell_type": "code",
     "collapsed": false,
     "input": [
      "scores=k_fold_cross_validation(cf, data, duration_col='Account_Length', event_col='Churn')"
     ],
     "language": "python",
     "metadata": {},
     "outputs": [],
     "prompt_number": 89
    },
    {
     "cell_type": "code",
     "collapsed": false,
     "input": [
      "scores.mean()"
     ],
     "language": "python",
     "metadata": {},
     "outputs": [
      {
       "metadata": {},
       "output_type": "pyout",
       "prompt_number": 90,
       "text": [
        "0.4954231541874119"
       ]
      }
     ],
     "prompt_number": 90
    },
    {
     "cell_type": "code",
     "collapsed": false,
     "input": [
      "cf.summary()"
     ],
     "language": "python",
     "metadata": {},
     "outputs": [
      {
       "output_type": "stream",
       "stream": "stdout",
       "text": [
        "                    coef  exp(coef)  se(coef)         z         p  lower 0.95  upper 0.95\n",
        "Vmail_Message   0.003974   1.003982  0.001351  2.940537  0.003276    0.001325    0.006623\n",
        "Day_Mins       -0.134447   0.874200  1.106259 -0.121533  0.903269   -2.303151    2.034258\n",
        "Day_Calls      -0.002494   0.997509  0.000933 -2.672612  0.007526   -0.004323   -0.000665\n",
        "Day_Charge      0.780957   2.183560  6.507411  0.120010  0.904475  -11.976138   13.538052\n",
        "Eve_Mins        0.108991   1.115152  0.556185  0.195962  0.844640   -0.981351    1.199334\n",
        "Eve_Calls      -0.000125   0.999875  0.000942 -0.132629  0.894487   -0.001972    0.001722\n",
        "Eve_Charge     -1.288985   0.275550  6.543494 -0.196987  0.843837  -14.116818   11.538848\n",
        "Night_Mins      0.077512   1.080595  0.298030  0.260080  0.794802   -0.506746    0.661769\n",
        "Night_Calls     0.000554   1.000554  0.000975  0.568107  0.569962   -0.001358    0.002466\n",
        "Night_Charge   -1.728339   0.177579  6.622481 -0.260981  0.794108  -14.711017   11.254340\n",
        "Intl_Mins       0.819233   2.268760  1.760719  0.465283  0.641728   -2.632471    4.270938\n",
        "Intl_Calls      0.006350   1.006370  0.007608  0.834627  0.403928   -0.008565    0.021265\n",
        "Intl_Charge    -3.072109   0.046323  6.521514 -0.471073  0.637589  -15.856851    9.712634\n",
        "CustServ_Calls -0.059976   0.941787  0.014996 -3.999558  0.000063   -0.089374   -0.030579\n"
       ]
      }
     ],
     "prompt_number": 85
    },
    {
     "cell_type": "code",
     "collapsed": false,
     "input": [
      "foo=cf.baseline_hazard_"
     ],
     "language": "python",
     "metadata": {},
     "outputs": [],
     "prompt_number": 108
    },
    {
     "cell_type": "code",
     "collapsed": false,
     "input": [
      "foo.iloc[6]"
     ],
     "language": "python",
     "metadata": {},
     "outputs": [
      {
       "metadata": {},
       "output_type": "pyout",
       "prompt_number": 112,
       "text": [
        "baseline hazard    0.001312\n",
        "Name: 6, dtype: float64"
       ]
      }
     ],
     "prompt_number": 112
    },
    {
     "cell_type": "code",
     "collapsed": false,
     "input": [],
     "language": "python",
     "metadata": {},
     "outputs": []
    }
   ],
   "metadata": {}
  }
 ]
}