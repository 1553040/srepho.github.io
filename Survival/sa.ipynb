{
 "metadata": {
  "name": "sa.ipynb"
 },
 "nbformat": 3,
 "nbformat_minor": 0,
 "worksheets": [
  {
   "cells": [
    {
     "cell_type": "code",
     "collapsed": false,
     "input": [
      "from lifelines import *\n",
      "import pandas as pd"
     ],
     "language": "python",
     "metadata": {},
     "outputs": [],
     "prompt_number": 1
    },
    {
     "cell_type": "code",
     "collapsed": false,
     "input": [
      "data=pd.read_csv(\"E:/Github Stuff/srepho.github.io/Survival/survival.txt\")\n",
      "#data=pd.read_csv(\"D:/Users/soates/Documents/Github/srepho.github.io/Survival/survival.txt\")"
     ],
     "language": "python",
     "metadata": {},
     "outputs": [],
     "prompt_number": 2
    },
    {
     "cell_type": "code",
     "collapsed": false,
     "input": [
      "data[\"Churn?\"]"
     ],
     "language": "python",
     "metadata": {},
     "outputs": [
      {
       "metadata": {},
       "output_type": "pyout",
       "prompt_number": 9,
       "text": [
        "0     False.\n",
        "1     False.\n",
        "2     False.\n",
        "3     False.\n",
        "4     False.\n",
        "5     False.\n",
        "6     False.\n",
        "7     False.\n",
        "8     False.\n",
        "9     False.\n",
        "10     True.\n",
        "11    False.\n",
        "12    False.\n",
        "13    False.\n",
        "14    False.\n",
        "...\n",
        "3318    False.\n",
        "3319    False.\n",
        "3320     True.\n",
        "3321    False.\n",
        "3322     True.\n",
        "3323     True.\n",
        "3324    False.\n",
        "3325    False.\n",
        "3326    False.\n",
        "3327    False.\n",
        "3328    False.\n",
        "3329    False.\n",
        "3330    False.\n",
        "3331    False.\n",
        "3332    False.\n",
        "Name: Churn?, Length: 3333, dtype: object"
       ]
      }
     ],
     "prompt_number": 9
    },
    {
     "cell_type": "code",
     "collapsed": false,
     "input": [
      "data.columns"
     ],
     "language": "python",
     "metadata": {},
     "outputs": [
      {
       "metadata": {},
       "output_type": "pyout",
       "prompt_number": 4,
       "text": [
        "Index([u'State', u'Account Length', u'Area Code', u'Phone', u'Int'l Plan', u'VMail Plan', u'VMail Message', u'Day Mins', u'Day Calls', u'Day Charge', u'Eve Mins', u'Eve Calls', u'Eve Charge', u'Night Mins', u'Night Calls', u'Night Charge', u'Intl Mins', u'Intl Calls', u'Intl Charge', u'CustServ Calls', u'Churn?'], dtype='object')"
       ]
      }
     ],
     "prompt_number": 4
    },
    {
     "cell_type": "code",
     "collapsed": false,
     "input": [
      "dead=data[data['Churn?']==\"True.\"]\n",
      "alive=data[data['Churn?']==\"False.\"]"
     ],
     "language": "python",
     "metadata": {},
     "outputs": [],
     "prompt_number": 3
    },
    {
     "cell_type": "code",
     "collapsed": false,
     "input": [
      "dead.head()"
     ],
     "language": "python",
     "metadata": {},
     "outputs": [
      {
       "html": [
        "<div style=\"max-height:1000px;max-width:1500px;overflow:auto;\">\n",
        "<table border=\"1\" class=\"dataframe\">\n",
        "  <thead>\n",
        "    <tr style=\"text-align: right;\">\n",
        "      <th></th>\n",
        "      <th>State</th>\n",
        "      <th>Account Length</th>\n",
        "      <th>Area Code</th>\n",
        "      <th>Phone</th>\n",
        "      <th>Int'l Plan</th>\n",
        "      <th>VMail Plan</th>\n",
        "      <th>VMail Message</th>\n",
        "      <th>Day Mins</th>\n",
        "      <th>Day Calls</th>\n",
        "      <th>Day Charge</th>\n",
        "      <th>...</th>\n",
        "      <th>Eve Calls</th>\n",
        "      <th>Eve Charge</th>\n",
        "      <th>Night Mins</th>\n",
        "      <th>Night Calls</th>\n",
        "      <th>Night Charge</th>\n",
        "      <th>Intl Mins</th>\n",
        "      <th>Intl Calls</th>\n",
        "      <th>Intl Charge</th>\n",
        "      <th>CustServ Calls</th>\n",
        "      <th>Churn?</th>\n",
        "    </tr>\n",
        "  </thead>\n",
        "  <tbody>\n",
        "    <tr>\n",
        "      <th>10</th>\n",
        "      <td> IN</td>\n",
        "      <td>  65</td>\n",
        "      <td> 415</td>\n",
        "      <td> 329-6603</td>\n",
        "      <td>  no</td>\n",
        "      <td>  no</td>\n",
        "      <td>  0</td>\n",
        "      <td> 129.1</td>\n",
        "      <td> 137</td>\n",
        "      <td> 21.95</td>\n",
        "      <td>...</td>\n",
        "      <td>  83</td>\n",
        "      <td> 19.42</td>\n",
        "      <td> 208.8</td>\n",
        "      <td> 111</td>\n",
        "      <td>  9.40</td>\n",
        "      <td> 12.7</td>\n",
        "      <td>  6</td>\n",
        "      <td> 3.43</td>\n",
        "      <td> 4</td>\n",
        "      <td> True.</td>\n",
        "    </tr>\n",
        "    <tr>\n",
        "      <th>15</th>\n",
        "      <td> NY</td>\n",
        "      <td> 161</td>\n",
        "      <td> 415</td>\n",
        "      <td> 351-7269</td>\n",
        "      <td>  no</td>\n",
        "      <td>  no</td>\n",
        "      <td>  0</td>\n",
        "      <td> 332.9</td>\n",
        "      <td>  67</td>\n",
        "      <td> 56.59</td>\n",
        "      <td>...</td>\n",
        "      <td>  97</td>\n",
        "      <td> 27.01</td>\n",
        "      <td> 160.6</td>\n",
        "      <td> 128</td>\n",
        "      <td>  7.23</td>\n",
        "      <td>  5.4</td>\n",
        "      <td>  9</td>\n",
        "      <td> 1.46</td>\n",
        "      <td> 4</td>\n",
        "      <td> True.</td>\n",
        "    </tr>\n",
        "    <tr>\n",
        "      <th>21</th>\n",
        "      <td> CO</td>\n",
        "      <td>  77</td>\n",
        "      <td> 408</td>\n",
        "      <td> 393-7984</td>\n",
        "      <td>  no</td>\n",
        "      <td>  no</td>\n",
        "      <td>  0</td>\n",
        "      <td>  62.4</td>\n",
        "      <td>  89</td>\n",
        "      <td> 10.61</td>\n",
        "      <td>...</td>\n",
        "      <td> 121</td>\n",
        "      <td> 14.44</td>\n",
        "      <td> 209.6</td>\n",
        "      <td>  64</td>\n",
        "      <td>  9.43</td>\n",
        "      <td>  5.7</td>\n",
        "      <td>  6</td>\n",
        "      <td> 1.54</td>\n",
        "      <td> 5</td>\n",
        "      <td> True.</td>\n",
        "    </tr>\n",
        "    <tr>\n",
        "      <th>33</th>\n",
        "      <td> AZ</td>\n",
        "      <td>  12</td>\n",
        "      <td> 408</td>\n",
        "      <td> 360-1596</td>\n",
        "      <td>  no</td>\n",
        "      <td>  no</td>\n",
        "      <td>  0</td>\n",
        "      <td> 249.6</td>\n",
        "      <td> 118</td>\n",
        "      <td> 42.43</td>\n",
        "      <td>...</td>\n",
        "      <td> 119</td>\n",
        "      <td> 21.45</td>\n",
        "      <td> 280.2</td>\n",
        "      <td>  90</td>\n",
        "      <td> 12.61</td>\n",
        "      <td> 11.8</td>\n",
        "      <td>  3</td>\n",
        "      <td> 3.19</td>\n",
        "      <td> 1</td>\n",
        "      <td> True.</td>\n",
        "    </tr>\n",
        "    <tr>\n",
        "      <th>41</th>\n",
        "      <td> MD</td>\n",
        "      <td> 135</td>\n",
        "      <td> 408</td>\n",
        "      <td> 383-6029</td>\n",
        "      <td> yes</td>\n",
        "      <td> yes</td>\n",
        "      <td> 41</td>\n",
        "      <td> 173.1</td>\n",
        "      <td>  85</td>\n",
        "      <td> 29.43</td>\n",
        "      <td>...</td>\n",
        "      <td> 107</td>\n",
        "      <td> 17.33</td>\n",
        "      <td> 122.2</td>\n",
        "      <td>  78</td>\n",
        "      <td>  5.50</td>\n",
        "      <td> 14.6</td>\n",
        "      <td> 15</td>\n",
        "      <td> 3.94</td>\n",
        "      <td> 0</td>\n",
        "      <td> True.</td>\n",
        "    </tr>\n",
        "  </tbody>\n",
        "</table>\n",
        "<p>5 rows \u00d7 21 columns</p>\n",
        "</div>"
       ],
       "metadata": {},
       "output_type": "pyout",
       "prompt_number": 11,
       "text": [
        "   State  Account Length  Area Code     Phone Int'l Plan VMail Plan  \\\n",
        "10    IN              65        415  329-6603         no         no   \n",
        "15    NY             161        415  351-7269         no         no   \n",
        "21    CO              77        408  393-7984         no         no   \n",
        "33    AZ              12        408  360-1596         no         no   \n",
        "41    MD             135        408  383-6029        yes        yes   \n",
        "\n",
        "    VMail Message  Day Mins  Day Calls  Day Charge     ...      Eve Calls  \\\n",
        "10              0     129.1        137       21.95     ...             83   \n",
        "15              0     332.9         67       56.59     ...             97   \n",
        "21              0      62.4         89       10.61     ...            121   \n",
        "33              0     249.6        118       42.43     ...            119   \n",
        "41             41     173.1         85       29.43     ...            107   \n",
        "\n",
        "    Eve Charge  Night Mins  Night Calls  Night Charge  Intl Mins  Intl Calls  \\\n",
        "10       19.42       208.8          111          9.40       12.7           6   \n",
        "15       27.01       160.6          128          7.23        5.4           9   \n",
        "21       14.44       209.6           64          9.43        5.7           6   \n",
        "33       21.45       280.2           90         12.61       11.8           3   \n",
        "41       17.33       122.2           78          5.50       14.6          15   \n",
        "\n",
        "    Intl Charge  CustServ Calls  Churn?  \n",
        "10         3.43               4   True.  \n",
        "15         1.46               4   True.  \n",
        "21         1.54               5   True.  \n",
        "33         3.19               1   True.  \n",
        "41         3.94               0   True.  \n",
        "\n",
        "[5 rows x 21 columns]"
       ]
      }
     ],
     "prompt_number": 11
    },
    {
     "cell_type": "code",
     "collapsed": false,
     "input": [
      "max(data[\"Account Length\"])"
     ],
     "language": "python",
     "metadata": {},
     "outputs": [
      {
       "metadata": {},
       "output_type": "pyout",
       "prompt_number": 13,
       "text": [
        "243"
       ]
      }
     ],
     "prompt_number": 13
    },
    {
     "cell_type": "code",
     "collapsed": false,
     "input": [
      "foo.sort()"
     ],
     "language": "python",
     "metadata": {},
     "outputs": [
      {
       "ename": "ValueError",
       "evalue": "This Series is a view of some other array, to sort in-place you must create a copy",
       "output_type": "pyerr",
       "traceback": [
        "\u001b[1;31m---------------------------------------------------------------------------\u001b[0m\n\u001b[1;31mValueError\u001b[0m                                Traceback (most recent call last)",
        "\u001b[1;32m<ipython-input-11-bce6947e3f4b>\u001b[0m in \u001b[0;36m<module>\u001b[1;34m()\u001b[0m\n\u001b[1;32m----> 1\u001b[1;33m \u001b[0mfoo\u001b[0m\u001b[1;33m.\u001b[0m\u001b[0msort\u001b[0m\u001b[1;33m(\u001b[0m\u001b[1;33m)\u001b[0m\u001b[1;33m\u001b[0m\u001b[0m\n\u001b[0m",
        "\u001b[1;32mC:\\Users\\Stephen\\AppData\\Local\\Enthought\\Canopy\\User\\lib\\site-packages\\pandas\\core\\series.py\u001b[0m in \u001b[0;36msort\u001b[1;34m(self, axis, ascending, kind, na_position, inplace)\u001b[0m\n\u001b[0;32m   1651\u001b[0m                           \u001b[0mkind\u001b[0m\u001b[1;33m=\u001b[0m\u001b[0mkind\u001b[0m\u001b[1;33m,\u001b[0m\u001b[1;33m\u001b[0m\u001b[0m\n\u001b[0;32m   1652\u001b[0m                           \u001b[0mna_position\u001b[0m\u001b[1;33m=\u001b[0m\u001b[0mna_position\u001b[0m\u001b[1;33m,\u001b[0m\u001b[1;33m\u001b[0m\u001b[0m\n\u001b[1;32m-> 1653\u001b[1;33m                           inplace=inplace)\n\u001b[0m\u001b[0;32m   1654\u001b[0m \u001b[1;33m\u001b[0m\u001b[0m\n\u001b[0;32m   1655\u001b[0m     \u001b[1;32mdef\u001b[0m \u001b[0morder\u001b[0m\u001b[1;33m(\u001b[0m\u001b[0mself\u001b[0m\u001b[1;33m,\u001b[0m \u001b[0mna_last\u001b[0m\u001b[1;33m=\u001b[0m\u001b[0mNone\u001b[0m\u001b[1;33m,\u001b[0m \u001b[0mascending\u001b[0m\u001b[1;33m=\u001b[0m\u001b[0mTrue\u001b[0m\u001b[1;33m,\u001b[0m \u001b[0mkind\u001b[0m\u001b[1;33m=\u001b[0m\u001b[1;34m'quicksort'\u001b[0m\u001b[1;33m,\u001b[0m \u001b[0mna_position\u001b[0m\u001b[1;33m=\u001b[0m\u001b[1;34m'last'\u001b[0m\u001b[1;33m,\u001b[0m \u001b[0minplace\u001b[0m\u001b[1;33m=\u001b[0m\u001b[0mFalse\u001b[0m\u001b[1;33m)\u001b[0m\u001b[1;33m:\u001b[0m\u001b[1;33m\u001b[0m\u001b[0m\n",
        "\u001b[1;32mC:\\Users\\Stephen\\AppData\\Local\\Enthought\\Canopy\\User\\lib\\site-packages\\pandas\\core\\series.py\u001b[0m in \u001b[0;36morder\u001b[1;34m(self, na_last, ascending, kind, na_position, inplace)\u001b[0m\n\u001b[0;32m   1684\u001b[0m         \u001b[1;31m# GH 5856/5853\u001b[0m\u001b[1;33m\u001b[0m\u001b[1;33m\u001b[0m\u001b[0m\n\u001b[0;32m   1685\u001b[0m         \u001b[1;32mif\u001b[0m \u001b[0minplace\u001b[0m \u001b[1;32mand\u001b[0m \u001b[0mself\u001b[0m\u001b[1;33m.\u001b[0m\u001b[0m_is_cached\u001b[0m\u001b[1;33m:\u001b[0m\u001b[1;33m\u001b[0m\u001b[0m\n\u001b[1;32m-> 1686\u001b[1;33m             raise ValueError(\"This Series is a view of some other array, to \"\n\u001b[0m\u001b[0;32m   1687\u001b[0m                              \"sort in-place you must create a copy\")\n\u001b[0;32m   1688\u001b[0m \u001b[1;33m\u001b[0m\u001b[0m\n",
        "\u001b[1;31mValueError\u001b[0m: This Series is a view of some other array, to sort in-place you must create a copy"
       ]
      }
     ],
     "prompt_number": 11
    },
    {
     "cell_type": "code",
     "collapsed": false,
     "input": [],
     "language": "python",
     "metadata": {},
     "outputs": []
    }
   ],
   "metadata": {}
  }
 ]
}