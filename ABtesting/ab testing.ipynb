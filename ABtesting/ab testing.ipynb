{
 "metadata": {
  "name": "ab testing.ipynb"
 },
 "nbformat": 3,
 "nbformat_minor": 0,
 "worksheets": [
  {
   "cells": [
    {
     "cell_type": "heading",
     "level": 1,
     "metadata": {},
     "source": [
      "Website Experimentation: <br></br> A/B Testing and the rise of the Multi-Armed Bandit."
     ]
    },
    {
     "cell_type": "raw",
     "metadata": {},
     "source": [
      "With the rise of the internet as a point of contact with customers, it has become possible to not only monitor how customers respond to webpages but also to very quickly make changes to what customers see. Together these have allowed very fast real time experimentation. This has lead to a wide variety of approaches (and rules of thumb) around how to know when "
     ]
    },
    {
     "cell_type": "markdown",
     "metadata": {},
     "source": [
      "1. mean\n",
      "2. 95% Confidence Interval\n",
      "3. Z Statistics\n",
      "4. t statistic"
     ]
    },
    {
     "cell_type": "code",
     "collapsed": false,
     "input": [
      "from scipy import stats\n",
      "import numpy as np"
     ],
     "language": "python",
     "metadata": {},
     "outputs": [],
     "prompt_number": 4
    },
    {
     "cell_type": "code",
     "collapsed": false,
     "input": [
      "import numpy as np\n",
      "import scipy as sp\n",
      "import scipy.stats\n",
      "\n",
      "def mean_confidence_interval(data, confidence=0.95):\n",
      "    a = 1.0*np.array(data)\n",
      "    n = len(a)\n",
      "    m, se = np.mean(a), scipy.stats.sem(a)\n",
      "    h = se * sp.stats.t._ppf((1+confidence)/2., n-1)\n",
      "    return m, m-h, m+h"
     ],
     "language": "python",
     "metadata": {},
     "outputs": [],
     "prompt_number": 20
    },
    {
     "cell_type": "code",
     "collapsed": false,
     "input": [
      "b = [5, 10, 7]\n",
      "a = (1, 2, 2, 4, 2, 7)"
     ],
     "language": "python",
     "metadata": {},
     "outputs": [],
     "prompt_number": 34
    },
    {
     "cell_type": "code",
     "collapsed": false,
     "input": [
      "mean_confidence_interval(a)"
     ],
     "language": "python",
     "metadata": {},
     "outputs": [
      {
       "metadata": {},
       "output_type": "pyout",
       "prompt_number": 35,
       "text": [
        "(3.0, 0.70080170864127389, 5.2991982913587261)"
       ]
      }
     ],
     "prompt_number": 35
    },
    {
     "cell_type": "code",
     "collapsed": false,
     "input": [
      "np.mean(a)"
     ],
     "language": "python",
     "metadata": {},
     "outputs": [
      {
       "metadata": {},
       "output_type": "pyout",
       "prompt_number": 36,
       "text": [
        "3.0"
       ]
      }
     ],
     "prompt_number": 36
    },
    {
     "cell_type": "code",
     "collapsed": false,
     "input": [
      "7.79-11.24\n"
     ],
     "language": "python",
     "metadata": {},
     "outputs": [
      {
       "metadata": {},
       "output_type": "pyout",
       "prompt_number": 24,
       "text": [
        "-3.45"
       ]
      }
     ],
     "prompt_number": 24
    },
    {
     "cell_type": "code",
     "collapsed": false,
     "input": [
      "stats.zscore(b)"
     ],
     "language": "python",
     "metadata": {},
     "outputs": [
      {
       "metadata": {},
       "output_type": "pyout",
       "prompt_number": 13,
       "text": [
        "array([-1.13554995,  1.29777137, -0.16222142])"
       ]
      }
     ],
     "prompt_number": 13
    },
    {
     "cell_type": "code",
     "collapsed": false,
     "input": [
      "stats.norm.interval(.05, loc=np.mean(b), scale=stdev"
     ],
     "language": "python",
     "metadata": {},
     "outputs": [
      {
       "metadata": {},
       "output_type": "pyout",
       "prompt_number": 19,
       "text": [
        "(array([        nan,  7.25195427,         nan]),\n",
        " array([        nan,  7.41471239,         nan]))"
       ]
      }
     ],
     "prompt_number": 19
    },
    {
     "cell_type": "code",
     "collapsed": false,
     "input": [
      "stats.describe(b)"
     ],
     "language": "python",
     "metadata": {},
     "outputs": [
      {
       "metadata": {},
       "output_type": "pyout",
       "prompt_number": 18,
       "text": [
        "(3L, (5, 10), 7.333333333333333, 6.333333333333333, 0.23906314692954517, -1.5)"
       ]
      }
     ],
     "prompt_number": 18
    },
    {
     "cell_type": "code",
     "collapsed": false,
     "input": [
      "stats.ttest_rel(a, b)\n"
     ],
     "language": "python",
     "metadata": {},
     "outputs": [
      {
       "metadata": {},
       "output_type": "pyout",
       "prompt_number": 12,
       "text": [
        "(array(inf), 0.0)"
       ]
      }
     ],
     "prompt_number": 12
    },
    {
     "cell_type": "code",
     "collapsed": false,
     "input": [
      "# Suppose we have the results of an A/B test: \n",
      "dataA = {\n",
      "        \"total\":100.,\n",
      "        \"conversions\":30\n",
      "}\n",
      "dataB = {\n",
      "            \"total\":100.,\n",
      "            \"conversions\":35\n",
      "}\n",
      "\n",
      "# Naively, we might say, well\n",
      "print \"group A's observed rate: %.3f\"%(dataA['conversions']/dataA['total'])\n",
      "print \"group B's observed rate: %.3f\"%(dataB['conversions']/dataB['total'])"
     ],
     "language": "python",
     "metadata": {},
     "outputs": []
    },
    {
     "cell_type": "raw",
     "metadata": {},
     "source": [
      "References: https://github.com/johnmyleswhite/BanditsBook/tree/master/python/algorithms"
     ]
    }
   ],
   "metadata": {}
  }
 ]
}