{
 "metadata": {
  "name": "21quiz.ipynb"
 },
 "nbformat": 3,
 "nbformat_minor": 0,
 "worksheets": [
  {
   "cells": [
    {
     "cell_type": "code",
     "collapsed": false,
     "input": [],
     "language": "python",
     "metadata": {},
     "outputs": []
    },
    {
     "cell_type": "raw",
     "metadata": {},
     "source": [
      "Two Bases: Find three digits X, Y and Z such that XYZ in base(10) is equal to ZYX base(9)"
     ]
    },
    {
     "cell_type": "code",
     "collapsed": false,
     "input": [],
     "language": "python",
     "metadata": {},
     "outputs": [],
     "prompt_number": 1
    },
    {
     "cell_type": "raw",
     "metadata": {},
     "source": [
      "One Million: Write 1,000,000 as the product of two numbers; neither of which contains any zeroes."
     ]
    },
    {
     "cell_type": "code",
     "collapsed": false,
     "input": [],
     "language": "python",
     "metadata": {},
     "outputs": [],
     "prompt_number": 2
    },
    {
     "cell_type": "raw",
     "metadata": {},
     "source": [
      "High Product: Use the digits 0-9 to create two numbers. What is the highest product you can achieve when these two numbers are multiplied together?"
     ]
    },
    {
     "cell_type": "code",
     "collapsed": false,
     "input": [],
     "language": "python",
     "metadata": {},
     "outputs": [],
     "prompt_number": 2
    },
    {
     "cell_type": "raw",
     "metadata": {},
     "source": [
      "Exactly a third: Arrange the numerals 1-9 into a single fraction that equals exactly 1/3 (one third). No other math symbols wanted; just concatenation some digits for the numberator, and some to make a denominator."
     ]
    },
    {
     "cell_type": "code",
     "collapsed": false,
     "input": [],
     "language": "python",
     "metadata": {},
     "outputs": []
    },
    {
     "cell_type": "raw",
     "metadata": {},
     "source": [
      "Three Dice: I roll three dice, and multiply the three numbers together. What is the probabilitiy the total will be odd?"
     ]
    },
    {
     "cell_type": "code",
     "collapsed": false,
     "input": [],
     "language": "python",
     "metadata": {},
     "outputs": []
    },
    {
     "cell_type": "raw",
     "metadata": {},
     "source": [
      "Word Doc: I open up a Word document and type all the numbers 1-10000, separated by spaces, (I did not use any 'thousands' punctuation; just raw numbers). Then, my daughter came along and used search and replace, and changed all the digits '0' into spaces. If I now sum up all the numbers in the document what is the total? (Any number delineated by one or more spaces is a distinct number)."
     ]
    },
    {
     "cell_type": "code",
     "collapsed": false,
     "input": [],
     "language": "python",
     "metadata": {},
     "outputs": []
    },
    {
     "cell_type": "raw",
     "metadata": {},
     "source": [
      "Legs: In a room there are a mixture of people and dogs. There are 72 heads, and 200 legs. How many dogs are in the room? (No tricks, no chromosomal abnormalities, no disabilities \u2026)"
     ]
    },
    {
     "cell_type": "code",
     "collapsed": false,
     "input": [],
     "language": "python",
     "metadata": {},
     "outputs": []
    },
    {
     "cell_type": "raw",
     "metadata": {},
     "source": [
      "One, Two, Three: Using just one 1, one 2, and one 3 (no concatenation of digits) and any combination mathematical symbols you wish (addition, subtraction, multiplication, division, parenthesis, exponents, factorial, square root \u2026). Write an equation to gives the total 19."
     ]
    },
    {
     "cell_type": "code",
     "collapsed": false,
     "input": [],
     "language": "python",
     "metadata": {},
     "outputs": [],
     "prompt_number": 2
    },
    {
     "cell_type": "raw",
     "metadata": {},
     "source": [
      "One, Seven: As above, how about making a total of 71 using just one 1 and one 7 (again, no concatenation of digits, or this would be trivial!)"
     ]
    },
    {
     "cell_type": "code",
     "collapsed": false,
     "input": [],
     "language": "python",
     "metadata": {},
     "outputs": []
    },
    {
     "cell_type": "raw",
     "metadata": {},
     "source": [
      "Buckets: Put the numbers 1-13 into three buckets with the constraint that the difference between any two pairs of numbers in any bucket is not a number also in that bucket. (e.g. If you place 5,7 in a bucket, then you cannot place 2 in that same bucket)."
     ]
    },
    {
     "cell_type": "code",
     "collapsed": false,
     "input": [],
     "language": "python",
     "metadata": {},
     "outputs": []
    },
    {
     "cell_type": "raw",
     "metadata": {},
     "source": [
      "Product and Sum: I\u2019ve written down all the integers from 1 to 65,502 inclusive. I select two of them, cross them out, and multiply them together to get a product. When I sum up the remaining 65,500 numbers, I get the same result. What two numbers did I pick?"
     ]
    },
    {
     "cell_type": "code",
     "collapsed": false,
     "input": [],
     "language": "python",
     "metadata": {},
     "outputs": []
    },
    {
     "cell_type": "raw",
     "metadata": {},
     "source": [
      "Adajacent Squares: Arrange the integers 1-17 (inclusive) so that each adjacent pair of numbers is a perfect square. e.g. 14, 2, 7 \u2026 (The first and last do not have to wrap around)"
     ]
    },
    {
     "cell_type": "code",
     "collapsed": false,
     "input": [],
     "language": "python",
     "metadata": {},
     "outputs": []
    },
    {
     "cell_type": "raw",
     "metadata": {},
     "source": [
      "How Many: ABCDEFGHIJ is a ten-digit-number. All of the digits are distinct. If 11111 divides it evenly, how many possibilities are there for ABCDEFGHIJ?"
     ]
    },
    {
     "cell_type": "code",
     "collapsed": false,
     "input": [],
     "language": "python",
     "metadata": {},
     "outputs": []
    },
    {
     "cell_type": "raw",
     "metadata": {},
     "source": [
      "Reciprocals: Find six distinct integers: A, B, C, D, E, F the reciprocals of which add up to exactly one. e.g. 1/A + 1/B + \u2026 1/F = 1"
     ]
    },
    {
     "cell_type": "code",
     "collapsed": false,
     "input": [],
     "language": "python",
     "metadata": {},
     "outputs": []
    },
    {
     "cell_type": "raw",
     "metadata": {},
     "source": [
      "Fan Fun: You\u2019re taking care of a friend\u2019s house whilst he\u2019s on vacation. In one room you pull the chain on a ceiling fan, and when it doesn\u2019t respond you realize the house has temporarily lost power. Doh! Unfortunately, you have to leave now, and you\u2019ll be away for several days.\n",
      "\n",
      "You know that the fan was in the \u201coff\u201d position before you pulled the chain, and that pulling the chain successively will cycle it through its remaining settings (\u201coff,\u201d \u201chigh\u201d, \u201cmedium\u201d. etc.). You don\u2019t know how many settings there are, but you are sure there aren\u2019t more than four.\n",
      "\n",
      "How can you ensure the fan will be in the \u201coff\u201d positions when power is restored?"
     ]
    },
    {
     "cell_type": "code",
     "collapsed": false,
     "input": [],
     "language": "python",
     "metadata": {},
     "outputs": []
    },
    {
     "cell_type": "raw",
     "metadata": {},
     "source": [
      "LED Clock:  You are in a totally dark room. The only light in the room comes from an old LED digital alarm clock (with four seven segment displays). The clock display is HH:MM (no seconds). The clock is configured to display time in 24 hour format and the leading digit is blank if not used. What is the period of time between when the room is at its darkest, to when it is at its lightest?"
     ]
    },
    {
     "cell_type": "code",
     "collapsed": false,
     "input": [],
     "language": "python",
     "metadata": {},
     "outputs": []
    },
    {
     "cell_type": "raw",
     "metadata": {},
     "source": [
      "Use all the digits: Find a five-digit number, all digits distinct and non-zero, such that that number is equal to the sum of all three-digit numbers can be made with the digits of that number.\n",
      "\n",
      "i.e. A number ABCDE that is equal to ABC + ABD + ABE + BCA + CBA + BDA + DBA + \u2026 etc."
     ]
    },
    {
     "cell_type": "code",
     "collapsed": false,
     "input": [],
     "language": "python",
     "metadata": {},
     "outputs": []
    },
    {
     "cell_type": "raw",
     "metadata": {},
     "source": [
      "Sticky Calculator Buttons: My daughter just spilled orange juice over my scientific calculator. The number buttons 0-9 are all stuck (not working), as are the basic arithmetic functions + - * /\n",
      "\n",
      "Thankfully, all the scientific buttons work (trig, powers, inverse, exponential, log, root, factorial \u2026)\n",
      "\n",
      "The display currently reads \u201c0\u201d.\n",
      "\n",
      "How can I use the buttons that work to make the display show \u201c1\u201d, then press buttons to convert this to a \u201c2\u201d, and finally \u201c3\u201d?"
     ]
    },
    {
     "cell_type": "code",
     "collapsed": false,
     "input": [],
     "language": "python",
     "metadata": {},
     "outputs": []
    },
    {
     "cell_type": "raw",
     "metadata": {},
     "source": [
      "Using Twos: Multiple parts, some easy, some hard. Add mathematical symbols (factorial, +, -, / , *, sqr , trig functions, log, decimal points, exponents \u2026) to make the desired sums. Concatenation is allowed.\n",
      "\n",
      "1] Make 11 using three 2s\n",
      "2] Make 1 using three 2s\n",
      "3] Make 10 using two 2s\n",
      "4] Make 5 using two 2s"
     ]
    },
    {
     "cell_type": "code",
     "collapsed": false,
     "input": [],
     "language": "python",
     "metadata": {},
     "outputs": []
    },
    {
     "cell_type": "raw",
     "metadata": {},
     "source": [
      "Filling my pool: If I fill up my pool using my red hose pipe, it takes me eight and a half hours. If I fill it up using both my red hose pipe and my blue hose pipe, it takes just five and a quarter hours. How long will it take me to fill my pool if I used just the blue hose pipe?\n",
      "\n",
      "(All the common sense simplifications apply: constant flow rates, don't try to complicate things with physics!)"
     ]
    },
    {
     "cell_type": "code",
     "collapsed": false,
     "input": [],
     "language": "python",
     "metadata": {},
     "outputs": []
    },
    {
     "cell_type": "raw",
     "metadata": {},
     "source": [
      "Start and End: Find the smallest possible natural number that ends in 6 such that if the 6 is erased and placed in front of the remaining digits, the resulting number is 4 times as large as the original number."
     ]
    },
    {
     "cell_type": "code",
     "collapsed": false,
     "input": [],
     "language": "python",
     "metadata": {},
     "outputs": []
    }
   ],
   "metadata": {}
  }
 ]
}